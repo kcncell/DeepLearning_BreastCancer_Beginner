{
 "cells": [
  {
   "cell_type": "code",
   "execution_count": null,
   "id": "8b517530",
   "metadata": {},
   "outputs": [],
   "source": [
    "## In this project we will create a basic neural network will predict.\n",
    "#the data is mostly clean, we will verify that and then scale the data.\n",
    "#then we will build and train the model.\n",
    "#I will leave the reasoning for every code, so that you can follow along."
   ]
  },
  {
   "cell_type": "code",
   "execution_count": 2,
   "id": "af8569b8",
   "metadata": {},
   "outputs": [],
   "source": [
    "#We will import several module which we will use it.\n",
    "#I like to import them when we need them, it's easier to follow along that way.\n",
    "import pandas as pd\n",
    "import numpy as np # these twos are needed for data analysis"
   ]
  },
  {
   "cell_type": "code",
   "execution_count": 3,
   "id": "1e5a6d30",
   "metadata": {},
   "outputs": [
    {
     "data": {
      "text/html": [
       "<div>\n",
       "<style scoped>\n",
       "    .dataframe tbody tr th:only-of-type {\n",
       "        vertical-align: middle;\n",
       "    }\n",
       "\n",
       "    .dataframe tbody tr th {\n",
       "        vertical-align: top;\n",
       "    }\n",
       "\n",
       "    .dataframe thead th {\n",
       "        text-align: right;\n",
       "    }\n",
       "</style>\n",
       "<table border=\"1\" class=\"dataframe\">\n",
       "  <thead>\n",
       "    <tr style=\"text-align: right;\">\n",
       "      <th></th>\n",
       "      <th>id</th>\n",
       "      <th>diagnosis</th>\n",
       "      <th>radius_mean</th>\n",
       "      <th>texture_mean</th>\n",
       "      <th>perimeter_mean</th>\n",
       "      <th>area_mean</th>\n",
       "      <th>smoothness_mean</th>\n",
       "      <th>compactness_mean</th>\n",
       "      <th>concavity_mean</th>\n",
       "      <th>concave points_mean</th>\n",
       "      <th>...</th>\n",
       "      <th>texture_worst</th>\n",
       "      <th>perimeter_worst</th>\n",
       "      <th>area_worst</th>\n",
       "      <th>smoothness_worst</th>\n",
       "      <th>compactness_worst</th>\n",
       "      <th>concavity_worst</th>\n",
       "      <th>concave points_worst</th>\n",
       "      <th>symmetry_worst</th>\n",
       "      <th>fractal_dimension_worst</th>\n",
       "      <th>Unnamed: 32</th>\n",
       "    </tr>\n",
       "  </thead>\n",
       "  <tbody>\n",
       "    <tr>\n",
       "      <th>0</th>\n",
       "      <td>842302</td>\n",
       "      <td>M</td>\n",
       "      <td>17.99</td>\n",
       "      <td>10.38</td>\n",
       "      <td>122.80</td>\n",
       "      <td>1001.0</td>\n",
       "      <td>0.11840</td>\n",
       "      <td>0.27760</td>\n",
       "      <td>0.3001</td>\n",
       "      <td>0.14710</td>\n",
       "      <td>...</td>\n",
       "      <td>17.33</td>\n",
       "      <td>184.60</td>\n",
       "      <td>2019.0</td>\n",
       "      <td>0.1622</td>\n",
       "      <td>0.6656</td>\n",
       "      <td>0.7119</td>\n",
       "      <td>0.2654</td>\n",
       "      <td>0.4601</td>\n",
       "      <td>0.11890</td>\n",
       "      <td>NaN</td>\n",
       "    </tr>\n",
       "    <tr>\n",
       "      <th>1</th>\n",
       "      <td>842517</td>\n",
       "      <td>M</td>\n",
       "      <td>20.57</td>\n",
       "      <td>17.77</td>\n",
       "      <td>132.90</td>\n",
       "      <td>1326.0</td>\n",
       "      <td>0.08474</td>\n",
       "      <td>0.07864</td>\n",
       "      <td>0.0869</td>\n",
       "      <td>0.07017</td>\n",
       "      <td>...</td>\n",
       "      <td>23.41</td>\n",
       "      <td>158.80</td>\n",
       "      <td>1956.0</td>\n",
       "      <td>0.1238</td>\n",
       "      <td>0.1866</td>\n",
       "      <td>0.2416</td>\n",
       "      <td>0.1860</td>\n",
       "      <td>0.2750</td>\n",
       "      <td>0.08902</td>\n",
       "      <td>NaN</td>\n",
       "    </tr>\n",
       "    <tr>\n",
       "      <th>2</th>\n",
       "      <td>84300903</td>\n",
       "      <td>M</td>\n",
       "      <td>19.69</td>\n",
       "      <td>21.25</td>\n",
       "      <td>130.00</td>\n",
       "      <td>1203.0</td>\n",
       "      <td>0.10960</td>\n",
       "      <td>0.15990</td>\n",
       "      <td>0.1974</td>\n",
       "      <td>0.12790</td>\n",
       "      <td>...</td>\n",
       "      <td>25.53</td>\n",
       "      <td>152.50</td>\n",
       "      <td>1709.0</td>\n",
       "      <td>0.1444</td>\n",
       "      <td>0.4245</td>\n",
       "      <td>0.4504</td>\n",
       "      <td>0.2430</td>\n",
       "      <td>0.3613</td>\n",
       "      <td>0.08758</td>\n",
       "      <td>NaN</td>\n",
       "    </tr>\n",
       "    <tr>\n",
       "      <th>3</th>\n",
       "      <td>84348301</td>\n",
       "      <td>M</td>\n",
       "      <td>11.42</td>\n",
       "      <td>20.38</td>\n",
       "      <td>77.58</td>\n",
       "      <td>386.1</td>\n",
       "      <td>0.14250</td>\n",
       "      <td>0.28390</td>\n",
       "      <td>0.2414</td>\n",
       "      <td>0.10520</td>\n",
       "      <td>...</td>\n",
       "      <td>26.50</td>\n",
       "      <td>98.87</td>\n",
       "      <td>567.7</td>\n",
       "      <td>0.2098</td>\n",
       "      <td>0.8663</td>\n",
       "      <td>0.6869</td>\n",
       "      <td>0.2575</td>\n",
       "      <td>0.6638</td>\n",
       "      <td>0.17300</td>\n",
       "      <td>NaN</td>\n",
       "    </tr>\n",
       "  </tbody>\n",
       "</table>\n",
       "<p>4 rows × 33 columns</p>\n",
       "</div>"
      ],
      "text/plain": [
       "         id diagnosis  radius_mean  texture_mean  perimeter_mean  area_mean  \\\n",
       "0    842302         M        17.99         10.38          122.80     1001.0   \n",
       "1    842517         M        20.57         17.77          132.90     1326.0   \n",
       "2  84300903         M        19.69         21.25          130.00     1203.0   \n",
       "3  84348301         M        11.42         20.38           77.58      386.1   \n",
       "\n",
       "   smoothness_mean  compactness_mean  concavity_mean  concave points_mean  \\\n",
       "0          0.11840           0.27760          0.3001              0.14710   \n",
       "1          0.08474           0.07864          0.0869              0.07017   \n",
       "2          0.10960           0.15990          0.1974              0.12790   \n",
       "3          0.14250           0.28390          0.2414              0.10520   \n",
       "\n",
       "   ...  texture_worst  perimeter_worst  area_worst  smoothness_worst  \\\n",
       "0  ...          17.33           184.60      2019.0            0.1622   \n",
       "1  ...          23.41           158.80      1956.0            0.1238   \n",
       "2  ...          25.53           152.50      1709.0            0.1444   \n",
       "3  ...          26.50            98.87       567.7            0.2098   \n",
       "\n",
       "   compactness_worst  concavity_worst  concave points_worst  symmetry_worst  \\\n",
       "0             0.6656           0.7119                0.2654          0.4601   \n",
       "1             0.1866           0.2416                0.1860          0.2750   \n",
       "2             0.4245           0.4504                0.2430          0.3613   \n",
       "3             0.8663           0.6869                0.2575          0.6638   \n",
       "\n",
       "   fractal_dimension_worst  Unnamed: 32  \n",
       "0                  0.11890          NaN  \n",
       "1                  0.08902          NaN  \n",
       "2                  0.08758          NaN  \n",
       "3                  0.17300          NaN  \n",
       "\n",
       "[4 rows x 33 columns]"
      ]
     },
     "execution_count": 3,
     "metadata": {},
     "output_type": "execute_result"
    }
   ],
   "source": [
    "df = pd.read_csv('cancer_diagnosis.csv') # we loaded our data into a dataframe.\n",
    "df.head(4) #let's inscpect the data briefly, we are seeing the first few rows."
   ]
  },
  {
   "cell_type": "code",
   "execution_count": 5,
   "id": "ed446b5d",
   "metadata": {},
   "outputs": [
    {
     "name": "stdout",
     "output_type": "stream",
     "text": [
      "Index(['id', 'diagnosis', 'radius_mean', 'texture_mean', 'perimeter_mean',\n",
      "       'area_mean', 'smoothness_mean', 'compactness_mean', 'concavity_mean',\n",
      "       'concave points_mean', 'symmetry_mean', 'fractal_dimension_mean',\n",
      "       'radius_se', 'texture_se', 'perimeter_se', 'area_se', 'smoothness_se',\n",
      "       'compactness_se', 'concavity_se', 'concave points_se', 'symmetry_se',\n",
      "       'fractal_dimension_se', 'radius_worst', 'texture_worst',\n",
      "       'perimeter_worst', 'area_worst', 'smoothness_worst',\n",
      "       'compactness_worst', 'concavity_worst', 'concave points_worst',\n",
      "       'symmetry_worst', 'fractal_dimension_worst', 'Unnamed: 32'],\n",
      "      dtype='object')\n",
      "<class 'pandas.core.frame.DataFrame'>\n",
      "RangeIndex: 569 entries, 0 to 568\n",
      "Data columns (total 33 columns):\n",
      " #   Column                   Non-Null Count  Dtype  \n",
      "---  ------                   --------------  -----  \n",
      " 0   id                       569 non-null    int64  \n",
      " 1   diagnosis                569 non-null    object \n",
      " 2   radius_mean              569 non-null    float64\n",
      " 3   texture_mean             569 non-null    float64\n",
      " 4   perimeter_mean           569 non-null    float64\n",
      " 5   area_mean                569 non-null    float64\n",
      " 6   smoothness_mean          569 non-null    float64\n",
      " 7   compactness_mean         569 non-null    float64\n",
      " 8   concavity_mean           569 non-null    float64\n",
      " 9   concave points_mean      569 non-null    float64\n",
      " 10  symmetry_mean            569 non-null    float64\n",
      " 11  fractal_dimension_mean   569 non-null    float64\n",
      " 12  radius_se                569 non-null    float64\n",
      " 13  texture_se               569 non-null    float64\n",
      " 14  perimeter_se             569 non-null    float64\n",
      " 15  area_se                  569 non-null    float64\n",
      " 16  smoothness_se            569 non-null    float64\n",
      " 17  compactness_se           569 non-null    float64\n",
      " 18  concavity_se             569 non-null    float64\n",
      " 19  concave points_se        569 non-null    float64\n",
      " 20  symmetry_se              569 non-null    float64\n",
      " 21  fractal_dimension_se     569 non-null    float64\n",
      " 22  radius_worst             569 non-null    float64\n",
      " 23  texture_worst            569 non-null    float64\n",
      " 24  perimeter_worst          569 non-null    float64\n",
      " 25  area_worst               569 non-null    float64\n",
      " 26  smoothness_worst         569 non-null    float64\n",
      " 27  compactness_worst        569 non-null    float64\n",
      " 28  concavity_worst          569 non-null    float64\n",
      " 29  concave points_worst     569 non-null    float64\n",
      " 30  symmetry_worst           569 non-null    float64\n",
      " 31  fractal_dimension_worst  569 non-null    float64\n",
      " 32  Unnamed: 32              0 non-null      float64\n",
      "dtypes: float64(31), int64(1), object(1)\n",
      "memory usage: 146.8+ KB\n"
     ]
    }
   ],
   "source": [
    "#let's inspect the data more to see the type of data we have in each columns and if there's any null or zero values.\n",
    "print(df.columns)\n",
    "df.info()"
   ]
  },
  {
   "cell_type": "code",
   "execution_count": null,
   "id": "905db1db",
   "metadata": {},
   "outputs": [],
   "source": [
    "## we can get rid of the'id' and 'Unnamed: 32' from this dataframe, and the we will separate the 'diagnosis' column as y-variable."
   ]
  },
  {
   "cell_type": "code",
   "execution_count": 7,
   "id": "b1bed997",
   "metadata": {},
   "outputs": [
    {
     "data": {
      "text/html": [
       "<div>\n",
       "<style scoped>\n",
       "    .dataframe tbody tr th:only-of-type {\n",
       "        vertical-align: middle;\n",
       "    }\n",
       "\n",
       "    .dataframe tbody tr th {\n",
       "        vertical-align: top;\n",
       "    }\n",
       "\n",
       "    .dataframe thead th {\n",
       "        text-align: right;\n",
       "    }\n",
       "</style>\n",
       "<table border=\"1\" class=\"dataframe\">\n",
       "  <thead>\n",
       "    <tr style=\"text-align: right;\">\n",
       "      <th></th>\n",
       "      <th>diagnosis</th>\n",
       "      <th>radius_mean</th>\n",
       "      <th>texture_mean</th>\n",
       "      <th>perimeter_mean</th>\n",
       "      <th>area_mean</th>\n",
       "      <th>smoothness_mean</th>\n",
       "      <th>compactness_mean</th>\n",
       "      <th>concavity_mean</th>\n",
       "      <th>concave points_mean</th>\n",
       "      <th>symmetry_mean</th>\n",
       "      <th>...</th>\n",
       "      <th>radius_worst</th>\n",
       "      <th>texture_worst</th>\n",
       "      <th>perimeter_worst</th>\n",
       "      <th>area_worst</th>\n",
       "      <th>smoothness_worst</th>\n",
       "      <th>compactness_worst</th>\n",
       "      <th>concavity_worst</th>\n",
       "      <th>concave points_worst</th>\n",
       "      <th>symmetry_worst</th>\n",
       "      <th>fractal_dimension_worst</th>\n",
       "    </tr>\n",
       "  </thead>\n",
       "  <tbody>\n",
       "    <tr>\n",
       "      <th>0</th>\n",
       "      <td>M</td>\n",
       "      <td>17.99</td>\n",
       "      <td>10.38</td>\n",
       "      <td>122.80</td>\n",
       "      <td>1001.0</td>\n",
       "      <td>0.11840</td>\n",
       "      <td>0.27760</td>\n",
       "      <td>0.3001</td>\n",
       "      <td>0.14710</td>\n",
       "      <td>0.2419</td>\n",
       "      <td>...</td>\n",
       "      <td>25.38</td>\n",
       "      <td>17.33</td>\n",
       "      <td>184.60</td>\n",
       "      <td>2019.0</td>\n",
       "      <td>0.1622</td>\n",
       "      <td>0.6656</td>\n",
       "      <td>0.7119</td>\n",
       "      <td>0.2654</td>\n",
       "      <td>0.4601</td>\n",
       "      <td>0.11890</td>\n",
       "    </tr>\n",
       "    <tr>\n",
       "      <th>1</th>\n",
       "      <td>M</td>\n",
       "      <td>20.57</td>\n",
       "      <td>17.77</td>\n",
       "      <td>132.90</td>\n",
       "      <td>1326.0</td>\n",
       "      <td>0.08474</td>\n",
       "      <td>0.07864</td>\n",
       "      <td>0.0869</td>\n",
       "      <td>0.07017</td>\n",
       "      <td>0.1812</td>\n",
       "      <td>...</td>\n",
       "      <td>24.99</td>\n",
       "      <td>23.41</td>\n",
       "      <td>158.80</td>\n",
       "      <td>1956.0</td>\n",
       "      <td>0.1238</td>\n",
       "      <td>0.1866</td>\n",
       "      <td>0.2416</td>\n",
       "      <td>0.1860</td>\n",
       "      <td>0.2750</td>\n",
       "      <td>0.08902</td>\n",
       "    </tr>\n",
       "    <tr>\n",
       "      <th>2</th>\n",
       "      <td>M</td>\n",
       "      <td>19.69</td>\n",
       "      <td>21.25</td>\n",
       "      <td>130.00</td>\n",
       "      <td>1203.0</td>\n",
       "      <td>0.10960</td>\n",
       "      <td>0.15990</td>\n",
       "      <td>0.1974</td>\n",
       "      <td>0.12790</td>\n",
       "      <td>0.2069</td>\n",
       "      <td>...</td>\n",
       "      <td>23.57</td>\n",
       "      <td>25.53</td>\n",
       "      <td>152.50</td>\n",
       "      <td>1709.0</td>\n",
       "      <td>0.1444</td>\n",
       "      <td>0.4245</td>\n",
       "      <td>0.4504</td>\n",
       "      <td>0.2430</td>\n",
       "      <td>0.3613</td>\n",
       "      <td>0.08758</td>\n",
       "    </tr>\n",
       "    <tr>\n",
       "      <th>3</th>\n",
       "      <td>M</td>\n",
       "      <td>11.42</td>\n",
       "      <td>20.38</td>\n",
       "      <td>77.58</td>\n",
       "      <td>386.1</td>\n",
       "      <td>0.14250</td>\n",
       "      <td>0.28390</td>\n",
       "      <td>0.2414</td>\n",
       "      <td>0.10520</td>\n",
       "      <td>0.2597</td>\n",
       "      <td>...</td>\n",
       "      <td>14.91</td>\n",
       "      <td>26.50</td>\n",
       "      <td>98.87</td>\n",
       "      <td>567.7</td>\n",
       "      <td>0.2098</td>\n",
       "      <td>0.8663</td>\n",
       "      <td>0.6869</td>\n",
       "      <td>0.2575</td>\n",
       "      <td>0.6638</td>\n",
       "      <td>0.17300</td>\n",
       "    </tr>\n",
       "  </tbody>\n",
       "</table>\n",
       "<p>4 rows × 31 columns</p>\n",
       "</div>"
      ],
      "text/plain": [
       "  diagnosis  radius_mean  texture_mean  perimeter_mean  area_mean  \\\n",
       "0         M        17.99         10.38          122.80     1001.0   \n",
       "1         M        20.57         17.77          132.90     1326.0   \n",
       "2         M        19.69         21.25          130.00     1203.0   \n",
       "3         M        11.42         20.38           77.58      386.1   \n",
       "\n",
       "   smoothness_mean  compactness_mean  concavity_mean  concave points_mean  \\\n",
       "0          0.11840           0.27760          0.3001              0.14710   \n",
       "1          0.08474           0.07864          0.0869              0.07017   \n",
       "2          0.10960           0.15990          0.1974              0.12790   \n",
       "3          0.14250           0.28390          0.2414              0.10520   \n",
       "\n",
       "   symmetry_mean  ...  radius_worst  texture_worst  perimeter_worst  \\\n",
       "0         0.2419  ...         25.38          17.33           184.60   \n",
       "1         0.1812  ...         24.99          23.41           158.80   \n",
       "2         0.2069  ...         23.57          25.53           152.50   \n",
       "3         0.2597  ...         14.91          26.50            98.87   \n",
       "\n",
       "   area_worst  smoothness_worst  compactness_worst  concavity_worst  \\\n",
       "0      2019.0            0.1622             0.6656           0.7119   \n",
       "1      1956.0            0.1238             0.1866           0.2416   \n",
       "2      1709.0            0.1444             0.4245           0.4504   \n",
       "3       567.7            0.2098             0.8663           0.6869   \n",
       "\n",
       "   concave points_worst  symmetry_worst  fractal_dimension_worst  \n",
       "0                0.2654          0.4601                  0.11890  \n",
       "1                0.1860          0.2750                  0.08902  \n",
       "2                0.2430          0.3613                  0.08758  \n",
       "3                0.2575          0.6638                  0.17300  \n",
       "\n",
       "[4 rows x 31 columns]"
      ]
     },
     "execution_count": 7,
     "metadata": {},
     "output_type": "execute_result"
    }
   ],
   "source": [
    "df = df.drop(columns=['id', 'Unnamed: 32'])\n",
    "df.head(4)"
   ]
  },
  {
   "cell_type": "code",
   "execution_count": 8,
   "id": "61e29dfb",
   "metadata": {},
   "outputs": [
    {
     "data": {
      "text/plain": [
       "diagnosis                  0\n",
       "radius_mean                0\n",
       "texture_mean               0\n",
       "perimeter_mean             0\n",
       "area_mean                  0\n",
       "smoothness_mean            0\n",
       "compactness_mean           0\n",
       "concavity_mean             0\n",
       "concave points_mean        0\n",
       "symmetry_mean              0\n",
       "fractal_dimension_mean     0\n",
       "radius_se                  0\n",
       "texture_se                 0\n",
       "perimeter_se               0\n",
       "area_se                    0\n",
       "smoothness_se              0\n",
       "compactness_se             0\n",
       "concavity_se               0\n",
       "concave points_se          0\n",
       "symmetry_se                0\n",
       "fractal_dimension_se       0\n",
       "radius_worst               0\n",
       "texture_worst              0\n",
       "perimeter_worst            0\n",
       "area_worst                 0\n",
       "smoothness_worst           0\n",
       "compactness_worst          0\n",
       "concavity_worst            0\n",
       "concave points_worst       0\n",
       "symmetry_worst             0\n",
       "fractal_dimension_worst    0\n",
       "dtype: int64"
      ]
     },
     "execution_count": 8,
     "metadata": {},
     "output_type": "execute_result"
    }
   ],
   "source": [
    "# in df.info we saw that there are no null values, let's make sure by this command.\n",
    "df.isnull().sum() # you can it has returned zero for all the columns, boolean argument in the 'isnull' turns out false for every column and row."
   ]
  },
  {
   "cell_type": "code",
   "execution_count": 9,
   "id": "38492203",
   "metadata": {},
   "outputs": [],
   "source": [
    "#let's split that data into X and y variables\n",
    "X = df.drop(columns='diagnosis')\n",
    "y = df['diagnosis']"
   ]
  },
  {
   "cell_type": "code",
   "execution_count": 10,
   "id": "8ff4c40e",
   "metadata": {},
   "outputs": [],
   "source": [
    "# we will split the data into training and testing sets. We need to import a module from sklearn for this process.\n",
    "\n",
    "from sklearn.model_selection import train_test_split\n",
    "x_train, x_test, y_train, y_test = train_test_split(X, y, test_size=0.3, random_state=69, shuffle=True)\n",
    "\n",
    "#random state is not important, shuffle is by default True, but I put it there to emphasize that we must shuffle our data."
   ]
  },
  {
   "cell_type": "code",
   "execution_count": 11,
   "id": "2f7d3774",
   "metadata": {},
   "outputs": [],
   "source": [
    "#now we will scale our x_train and x_test data. We have a module from sklearn\n",
    "\n",
    "from sklearn.preprocessing import MinMaxScaler \n",
    "sc = MinMaxScaler() #it scales the data between 0 and 1, so no variable gets extra weights. I found this works better than the 'standardscaler'\n",
    "x_train = sc.fit_transform(x_train)\n",
    "x_test = sc.transform(x_test)\n"
   ]
  },
  {
   "cell_type": "code",
   "execution_count": 12,
   "id": "4e5dc985",
   "metadata": {},
   "outputs": [
    {
     "name": "stdout",
     "output_type": "stream",
     "text": [
      "(398, 30) (171, 30)\n"
     ]
    },
    {
     "data": {
      "text/plain": [
       "array([[0.35990989, 0.23774095, 0.35951769, 0.22268944, 0.44190291,\n",
       "        0.40072598, 0.1809044 , 0.30526839, 0.30707071, 0.40904128,\n",
       "        0.09433279, 0.10603246, 0.07289262, 0.05236852, 0.08192542,\n",
       "        0.11970138, 0.06570112, 0.24547677, 0.01947189, 0.10663231,\n",
       "        0.29537315, 0.22414712, 0.28066697, 0.15713081, 0.2795351 ,\n",
       "        0.18463971, 0.14824281, 0.34982818, 0.15305611, 0.19862069],\n",
       "       [0.36725599, 0.11836321, 0.35181221, 0.2323007 , 0.20829785,\n",
       "        0.17108417, 0.07949859, 0.13205765, 0.33383838, 0.11967679,\n",
       "        0.02418975, 0.01099023, 0.02737596, 0.02039231, 0.11214604,\n",
       "        0.09461652, 0.05105332, 0.22383863, 0.13349127, 0.03970827,\n",
       "        0.27490681, 0.0988806 , 0.25423212, 0.14775208, 0.27359176,\n",
       "        0.14204771, 0.10878594, 0.28103093, 0.23071142, 0.08151067],\n",
       "       [0.26245164, 0.13966858, 0.24521975, 0.15455248, 0.25562721,\n",
       "        0.06153688, 0.01068182, 0.04388171, 0.19848485, 0.11399869,\n",
       "        0.1035669 , 0.10298085, 0.08528483, 0.0489505 , 0.08277527,\n",
       "        0.01846817, 0.00931863, 0.11787286, 0.0901562 , 0.06274471,\n",
       "        0.22118266, 0.14339019, 0.2006507 , 0.11135371, 0.20095093,\n",
       "        0.03025099, 0.01456869, 0.12137457, 0.13552104, 0.06929392]])"
      ]
     },
     "execution_count": 12,
     "metadata": {},
     "output_type": "execute_result"
    }
   ],
   "source": [
    "#let's inspect the shape of x_train and x_test, and visualise few rows of data\n",
    "print(x_train.shape, x_test.shape)\n",
    "x_train[:3]"
   ]
  },
  {
   "cell_type": "code",
   "execution_count": null,
   "id": "e691bff2",
   "metadata": {},
   "outputs": [],
   "source": [
    "#above we can see that we have 30 variables/attributes on each datasets, those will be needed for our nerual network training."
   ]
  },
  {
   "cell_type": "code",
   "execution_count": 13,
   "id": "9a3f613c",
   "metadata": {},
   "outputs": [
    {
     "name": "stdout",
     "output_type": "stream",
     "text": [
      "B    357\n",
      "M    212\n",
      "Name: diagnosis, dtype: int64\n"
     ]
    },
    {
     "data": {
      "text/plain": [
       "array([1, 1, 1, 0, 1])"
      ]
     },
     "execution_count": 13,
     "metadata": {},
     "output_type": "execute_result"
    }
   ],
   "source": [
    "# y variable has two types of data\"B\" for benign and \"M\" for Malignant.\n",
    "# you can check with the following syntax.\n",
    "print(y.value_counts())\n",
    "# first we will replace them with numerical label, and then convert them into matrices which can be used the training process.\n",
    "\n",
    "from sklearn.preprocessing import LabelEncoder\n",
    "le = LabelEncoder() #it will add the label and replace B and m\n",
    "y_train = le.fit_transform(y_train)\n",
    "y_test = le.transform(y_test)\n",
    "\n",
    "y_test[:5]"
   ]
  },
  {
   "cell_type": "code",
   "execution_count": 14,
   "id": "e81d5e3a",
   "metadata": {},
   "outputs": [
    {
     "name": "stdout",
     "output_type": "stream",
     "text": [
      "[0 0 0 1 0]\n"
     ]
    }
   ],
   "source": [
    "# now we will convert the y-varibale from array like objects to matrices, so that it can be used as output in the neural network training.\n",
    "#but before that let's take a look at our y_train\n",
    "print(y_train[:5])"
   ]
  },
  {
   "cell_type": "code",
   "execution_count": 15,
   "id": "30209d7c",
   "metadata": {},
   "outputs": [],
   "source": [
    "# let's import everything for the neuralnetwork\n",
    "import tensorflow as tf\n",
    "from tensorflow import keras\n",
    "from keras.models import Sequential  # we will be using Sequential model for this project\n",
    "from keras.layers import Dense, Dropout \n"
   ]
  },
  {
   "cell_type": "code",
   "execution_count": 16,
   "id": "95500b48",
   "metadata": {},
   "outputs": [
    {
     "data": {
      "text/plain": [
       "array([[1., 0.],\n",
       "       [1., 0.],\n",
       "       [1., 0.],\n",
       "       [0., 1.],\n",
       "       [1., 0.]], dtype=float32)"
      ]
     },
     "execution_count": 16,
     "metadata": {},
     "output_type": "execute_result"
    }
   ],
   "source": [
    "#convert y_train into matrices using keras.utils.to_categorical\n",
    "y_train = keras.utils.to_categorical(y_train, num_classes=2)\n",
    "y_train[:5]\n",
    "#num classes depends on how many different types of output we have in our data. For this example, it is 2(B and M)\n",
    "#I apllied only on y_train data, later we will convert our prediction normal y_test data\n",
    "# so it is unnecessary to convert the y_test data."
   ]
  },
  {
   "cell_type": "code",
   "execution_count": null,
   "id": "0742927d",
   "metadata": {},
   "outputs": [],
   "source": [
    "#you can see above that 0 is coverted into [1,0] matrix and 1 is converted into [0,1] matrix."
   ]
  },
  {
   "cell_type": "code",
   "execution_count": 17,
   "id": "1be920a5",
   "metadata": {},
   "outputs": [
    {
     "name": "stdout",
     "output_type": "stream",
     "text": [
      "Model: \"sequential_1\"\n",
      "_________________________________________________________________\n",
      "Layer (type)                 Output Shape              Param #   \n",
      "=================================================================\n",
      "dense_1 (Dense)              (None, 100)               3100      \n",
      "_________________________________________________________________\n",
      "dense_2 (Dense)              (None, 200)               20200     \n",
      "_________________________________________________________________\n",
      "dropout_1 (Dropout)          (None, 200)               0         \n",
      "_________________________________________________________________\n",
      "dense_3 (Dense)              (None, 2)                 402       \n",
      "=================================================================\n",
      "Total params: 23,702\n",
      "Trainable params: 23,702\n",
      "Non-trainable params: 0\n",
      "_________________________________________________________________\n"
     ]
    },
    {
     "name": "stderr",
     "output_type": "stream",
     "text": [
      "2021-12-30 03:57:16.434313: I tensorflow/core/platform/cpu_feature_guard.cc:145] This TensorFlow binary is optimized with Intel(R) MKL-DNN to use the following CPU instructions in performance critical operations:  SSE4.1 SSE4.2\n",
      "To enable them in non-MKL-DNN operations, rebuild TensorFlow with the appropriate compiler flags.\n",
      "2021-12-30 03:57:16.436033: I tensorflow/core/common_runtime/process_util.cc:115] Creating new thread pool with default inter op setting: 8. Tune using inter_op_parallelism_threads for best performance.\n"
     ]
    }
   ],
   "source": [
    "# now we will build the sequential model\n",
    "model = Sequential()\n",
    "model.add(Dense(units=100, activation='relu', input_shape=(x_train.shape[1],)))# this is our first hidden layer,it will take (30,) as an input_size from the input layer\n",
    "model.add(Dense(units=200, activation='relu')) #2nd hidden layer will take input automatically from the \n",
    "model.add(Dropout(0.5)) #the model will drop randomly 50% of the neuron, so that our model won't overfit.\n",
    "model.add(Dense(units=2, activation='softmax')) #this is the output layer, because we have two outputs, hence the units=2\n",
    "\n",
    "#lets compile the model and give the proper optimizer, loss and metrics function\n",
    "model.compile(optimizer='Adam', loss='categorical_crossentropy', metrics=['accuracy'])\n",
    "\n",
    "#take a look at the summary of the model\n",
    "model.summary()"
   ]
  },
  {
   "cell_type": "code",
   "execution_count": 19,
   "id": "c4770619",
   "metadata": {},
   "outputs": [
    {
     "name": "stdout",
     "output_type": "stream",
     "text": [
      "Train on 278 samples, validate on 120 samples\n",
      "Epoch 1/50\n",
      " - 0s - loss: 0.3321 - accuracy: 0.8957 - val_loss: 0.3391 - val_accuracy: 0.8833\n",
      "Epoch 2/50\n",
      " - 0s - loss: 0.3048 - accuracy: 0.9029 - val_loss: 0.3176 - val_accuracy: 0.8833\n",
      "Epoch 3/50\n",
      " - 0s - loss: 0.2823 - accuracy: 0.8957 - val_loss: 0.3050 - val_accuracy: 0.8917\n",
      "Epoch 4/50\n",
      " - 0s - loss: 0.2643 - accuracy: 0.9029 - val_loss: 0.2829 - val_accuracy: 0.8917\n",
      "Epoch 5/50\n",
      " - 0s - loss: 0.2493 - accuracy: 0.8957 - val_loss: 0.2480 - val_accuracy: 0.9000\n",
      "Epoch 6/50\n",
      " - 0s - loss: 0.2347 - accuracy: 0.9137 - val_loss: 0.2337 - val_accuracy: 0.9000\n",
      "Epoch 7/50\n",
      " - 0s - loss: 0.2034 - accuracy: 0.9209 - val_loss: 0.2229 - val_accuracy: 0.9083\n",
      "Epoch 8/50\n",
      " - 0s - loss: 0.1988 - accuracy: 0.9173 - val_loss: 0.2108 - val_accuracy: 0.9167\n",
      "Epoch 9/50\n",
      " - 0s - loss: 0.1851 - accuracy: 0.9209 - val_loss: 0.1990 - val_accuracy: 0.9167\n",
      "Epoch 10/50\n",
      " - 0s - loss: 0.1944 - accuracy: 0.9101 - val_loss: 0.1910 - val_accuracy: 0.9167\n",
      "Epoch 11/50\n",
      " - 0s - loss: 0.1710 - accuracy: 0.9317 - val_loss: 0.1781 - val_accuracy: 0.9250\n",
      "Epoch 12/50\n",
      " - 0s - loss: 0.1612 - accuracy: 0.9388 - val_loss: 0.1716 - val_accuracy: 0.9250\n",
      "Epoch 13/50\n",
      " - 0s - loss: 0.1484 - accuracy: 0.9496 - val_loss: 0.1590 - val_accuracy: 0.9417\n",
      "Epoch 14/50\n",
      " - 0s - loss: 0.1427 - accuracy: 0.9388 - val_loss: 0.1555 - val_accuracy: 0.9333\n",
      "Epoch 15/50\n",
      " - 0s - loss: 0.1371 - accuracy: 0.9568 - val_loss: 0.1533 - val_accuracy: 0.9417\n",
      "Epoch 16/50\n",
      " - 0s - loss: 0.1264 - accuracy: 0.9640 - val_loss: 0.1482 - val_accuracy: 0.9583\n",
      "Epoch 17/50\n",
      " - 0s - loss: 0.1136 - accuracy: 0.9568 - val_loss: 0.1416 - val_accuracy: 0.9500\n",
      "Epoch 18/50\n",
      " - 0s - loss: 0.1257 - accuracy: 0.9532 - val_loss: 0.1436 - val_accuracy: 0.9583\n",
      "Epoch 19/50\n",
      " - 0s - loss: 0.0979 - accuracy: 0.9784 - val_loss: 0.1307 - val_accuracy: 0.9500\n",
      "Epoch 20/50\n",
      " - 0s - loss: 0.1143 - accuracy: 0.9460 - val_loss: 0.1265 - val_accuracy: 0.9500\n",
      "Epoch 21/50\n",
      " - 0s - loss: 0.0925 - accuracy: 0.9748 - val_loss: 0.1339 - val_accuracy: 0.9583\n",
      "Epoch 22/50\n",
      " - 0s - loss: 0.0950 - accuracy: 0.9712 - val_loss: 0.1414 - val_accuracy: 0.9583\n",
      "Epoch 23/50\n",
      " - 0s - loss: 0.0871 - accuracy: 0.9712 - val_loss: 0.1247 - val_accuracy: 0.9583\n",
      "Epoch 24/50\n",
      " - 0s - loss: 0.0896 - accuracy: 0.9784 - val_loss: 0.1225 - val_accuracy: 0.9583\n",
      "Epoch 25/50\n",
      " - 0s - loss: 0.0842 - accuracy: 0.9712 - val_loss: 0.1231 - val_accuracy: 0.9583\n",
      "Epoch 26/50\n",
      " - 0s - loss: 0.0801 - accuracy: 0.9712 - val_loss: 0.1182 - val_accuracy: 0.9667\n",
      "Epoch 27/50\n",
      " - 0s - loss: 0.0827 - accuracy: 0.9712 - val_loss: 0.1202 - val_accuracy: 0.9583\n",
      "Epoch 28/50\n",
      " - 0s - loss: 0.0850 - accuracy: 0.9748 - val_loss: 0.1252 - val_accuracy: 0.9583\n",
      "Epoch 29/50\n",
      " - 0s - loss: 0.0724 - accuracy: 0.9820 - val_loss: 0.1244 - val_accuracy: 0.9583\n",
      "Epoch 30/50\n",
      " - 0s - loss: 0.0719 - accuracy: 0.9820 - val_loss: 0.1194 - val_accuracy: 0.9667\n",
      "Epoch 31/50\n",
      " - 0s - loss: 0.0678 - accuracy: 0.9784 - val_loss: 0.1124 - val_accuracy: 0.9667\n",
      "Epoch 32/50\n",
      " - 0s - loss: 0.0663 - accuracy: 0.9820 - val_loss: 0.1166 - val_accuracy: 0.9667\n",
      "Epoch 33/50\n",
      " - 0s - loss: 0.0618 - accuracy: 0.9856 - val_loss: 0.1271 - val_accuracy: 0.9583\n",
      "Epoch 34/50\n",
      " - 0s - loss: 0.0647 - accuracy: 0.9784 - val_loss: 0.1208 - val_accuracy: 0.9667\n",
      "Epoch 35/50\n",
      " - 0s - loss: 0.0677 - accuracy: 0.9712 - val_loss: 0.1165 - val_accuracy: 0.9667\n",
      "Epoch 36/50\n",
      " - 0s - loss: 0.0630 - accuracy: 0.9784 - val_loss: 0.1219 - val_accuracy: 0.9667\n",
      "Epoch 37/50\n",
      " - 0s - loss: 0.0557 - accuracy: 0.9784 - val_loss: 0.1159 - val_accuracy: 0.9667\n",
      "Epoch 38/50\n",
      " - 0s - loss: 0.0538 - accuracy: 0.9892 - val_loss: 0.1112 - val_accuracy: 0.9667\n",
      "Epoch 39/50\n",
      " - 0s - loss: 0.0640 - accuracy: 0.9712 - val_loss: 0.1223 - val_accuracy: 0.9667\n",
      "Epoch 40/50\n",
      " - 0s - loss: 0.0593 - accuracy: 0.9820 - val_loss: 0.1267 - val_accuracy: 0.9667\n",
      "Epoch 41/50\n",
      " - 0s - loss: 0.0514 - accuracy: 0.9856 - val_loss: 0.1168 - val_accuracy: 0.9667\n",
      "Epoch 42/50\n",
      " - 0s - loss: 0.0538 - accuracy: 0.9892 - val_loss: 0.1135 - val_accuracy: 0.9667\n",
      "Epoch 43/50\n",
      " - 0s - loss: 0.0471 - accuracy: 0.9856 - val_loss: 0.1214 - val_accuracy: 0.9667\n",
      "Epoch 44/50\n",
      " - 0s - loss: 0.0454 - accuracy: 0.9892 - val_loss: 0.1272 - val_accuracy: 0.9667\n",
      "Epoch 45/50\n",
      " - 0s - loss: 0.0488 - accuracy: 0.9892 - val_loss: 0.1163 - val_accuracy: 0.9667\n",
      "Epoch 46/50\n",
      " - 0s - loss: 0.0476 - accuracy: 0.9856 - val_loss: 0.1157 - val_accuracy: 0.9667\n",
      "Epoch 47/50\n",
      " - 0s - loss: 0.0441 - accuracy: 0.9820 - val_loss: 0.1172 - val_accuracy: 0.9667\n",
      "Epoch 48/50\n",
      " - 0s - loss: 0.0489 - accuracy: 0.9820 - val_loss: 0.1242 - val_accuracy: 0.9667\n",
      "Epoch 49/50\n",
      " - 0s - loss: 0.0457 - accuracy: 0.9856 - val_loss: 0.1213 - val_accuracy: 0.9667\n",
      "Epoch 50/50\n",
      " - 0s - loss: 0.0457 - accuracy: 0.9856 - val_loss: 0.1166 - val_accuracy: 0.9667\n"
     ]
    },
    {
     "data": {
      "text/plain": [
       "<keras.callbacks.callbacks.History at 0x7fc2104ff1d0>"
      ]
     },
     "execution_count": 19,
     "metadata": {},
     "output_type": "execute_result"
    }
   ],
   "source": [
    "#now we will run the model\n",
    "model.fit(x_train, y_train, batch_size=100, epochs=50, verbose=2,validation_split=0.3, shuffle=True)"
   ]
  },
  {
   "cell_type": "code",
   "execution_count": null,
   "id": "361c8b39",
   "metadata": {},
   "outputs": [],
   "source": [
    "#number of epochs could have been smaller, it seems like working well in both training sample and the validation sample."
   ]
  },
  {
   "cell_type": "code",
   "execution_count": 20,
   "id": "58c05cf8",
   "metadata": {},
   "outputs": [
    {
     "data": {
      "text/plain": [
       "array([1, 1, 1, 0, 1])"
      ]
     },
     "execution_count": 20,
     "metadata": {},
     "output_type": "execute_result"
    }
   ],
   "source": [
    "#lets predict by using our model\n",
    "prediction = model.predict(x_test) #this will give us a matrix out put, we have to convert it to 1d array\n",
    "prediction = np.argmax(prediction, axis=1) #argmax will convert it into 1d array, let's take look at the prediction data\n",
    "prediction[:5]"
   ]
  },
  {
   "cell_type": "code",
   "execution_count": 21,
   "id": "f80267a9",
   "metadata": {},
   "outputs": [
    {
     "name": "stdout",
     "output_type": "stream",
     "text": [
      "0.9590643274853801\n",
      "[[93  1]\n",
      " [ 6 71]]\n"
     ]
    }
   ],
   "source": [
    "#we will quantify our model now by some sklearn.metrics module\n",
    "from sklearn.metrics import accuracy_score, confusion_matrix\n",
    "ac = accuracy_score(y_test, prediction)\n",
    "cm = confusion_matrix(y_test, prediction)\n",
    "print(ac)\n",
    "print(cm)"
   ]
  },
  {
   "cell_type": "code",
   "execution_count": null,
   "id": "93c5ca1a",
   "metadata": {},
   "outputs": [],
   "source": [
    "#lets create beautiful figure to represent the confusion matrix"
   ]
  },
  {
   "cell_type": "code",
   "execution_count": 24,
   "id": "63236857",
   "metadata": {},
   "outputs": [],
   "source": [
    "import matplotlib.pyplot as plt\n",
    "import seaborn as sns\n",
    "%matplotlib inline"
   ]
  },
  {
   "cell_type": "code",
   "execution_count": 30,
   "id": "84795fa2",
   "metadata": {},
   "outputs": [
    {
     "data": {
      "text/plain": [
       "Text(24.0, 0.5, 'Actual')"
      ]
     },
     "execution_count": 30,
     "metadata": {},
     "output_type": "execute_result"
    },
    {
     "data": {
      "image/png": "[encoded data removed]",
      "text/plain": [
       "<Figure size 360x360 with 2 Axes>"
      ]
     },
     "metadata": {
      "needs_background": "light"
     },
     "output_type": "display_data"
    }
   ],
   "source": [
    "fig = plt.subplots(figsize = (5,5))\n",
    "fig = sns.heatmap(cm, annot=True, fmt='d',xticklabels=('B','M'), yticklabels=('B', 'M'), cmap='Blues',)\n",
    "fig.set_title('Confusion Matrix', fontsize=14)\n",
    "fig.set_xlabel('Predicted', fontsize=14)\n",
    "fig.set_ylabel('Actual',fontsize=14)"
   ]
  },
  {
   "cell_type": "code",
   "execution_count": 31,
   "id": "c408a485",
   "metadata": {},
   "outputs": [],
   "source": [
    "#our out of the box model did really well for this data sets, which was expected.\n",
    "#Lets save this model(weights, architecture, compiler, loss, optimizer) to your harddrive as a '.h5'for future use or modification.\n",
    "import os\n",
    "model.save('caner_diagnosis_deepLearning.h5')"
   ]
  },
  {
   "cell_type": "code",
   "execution_count": null,
   "id": "73d51696",
   "metadata": {},
   "outputs": [],
   "source": []
  }
 ],
 "metadata": {
  "kernelspec": {
   "display_name": "Python 3 (ipykernel)",
   "language": "python",
   "name": "python3"
  },
  "language_info": {
   "codemirror_mode": {
    "name": "ipython",
    "version": 3
   },
   "file_extension": ".py",
   "mimetype": "text/x-python",
   "name": "python",
   "nbconvert_exporter": "python",
   "pygments_lexer": "ipython3",
   "version": "3.7.11"
  }
 },
 "nbformat": 4,
 "nbformat_minor": 5
}
